{
 "cells": [
  {
   "cell_type": "code",
   "execution_count": null,
   "metadata": {},
   "outputs": [],
   "source": [
    "\"\"\"\n",
    "This notebook modifies a screen shot of my scattertext figure to make\n",
    "the background transparent and the text white instead of black.\n",
    "\"\"\""
   ]
  },
  {
   "cell_type": "code",
   "execution_count": 2,
   "metadata": {},
   "outputs": [],
   "source": [
    "from PIL import Image"
   ]
  },
  {
   "cell_type": "code",
   "execution_count": 7,
   "metadata": {},
   "outputs": [],
   "source": [
    "# This strategy makes all black pixels transparent and all white pixels black.\n",
    "# However, it only changes pixels if they have the exact value 255, 255, 255\n",
    "# and 0, 0, 0 which results in a very distorted image\n",
    "img = Image.open('spacy_screenshot.png')\n",
    "img = img.convert(\"RGBA\")\n",
    "\n",
    "pixdata = img.load()\n",
    "\n",
    "width, height = img.size\n",
    "for y in range(height):\n",
    "    for x in range(width):\n",
    "        if pixdata[x, y] == (255, 255, 255, 255):\n",
    "            pixdata[x, y] = (255, 255, 255, 0)\n",
    "\n",
    "for y in range(height):\n",
    "    for x in range(width):\n",
    "        if pixdata[x, y] == (0, 0, 0, 255):\n",
    "            pixdata[x, y] = (255, 255, 255, 255)\n",
    "            \n",
    "img.save(\"img2.png\", \"PNG\")"
   ]
  },
  {
   "cell_type": "code",
   "execution_count": 29,
   "metadata": {},
   "outputs": [],
   "source": [
    "# This strategy is similar to the first, but also modifies pixels that are close\n",
    "# to 255, 255, 255 and 0, 0, 0 to give a better image\n",
    "\n",
    "import numpy as np\n",
    "\n",
    "threshold=200\n",
    "dist=5\n",
    "img=Image.open('spacy_screenshot.png').convert('RGBA')\n",
    "# np.asarray(img) is read only. Wrap it in np.array to make it modifiable.\n",
    "arr=np.array(np.asarray(img))\n",
    "r,g,b,a=np.rollaxis(arr,axis=-1)    \n",
    "mask=((r>threshold)\n",
    "      & (g>threshold)\n",
    "      & (b>threshold)\n",
    "      & (np.abs(r-g)<dist)\n",
    "      & (np.abs(r-b)<dist)\n",
    "      & (np.abs(g-b)<dist)\n",
    "      )\n",
    "arr[mask,3]=0 \n",
    "\n",
    "threshold2=200\n",
    "mask2=((r<threshold2)\n",
    "      & (g<threshold2)\n",
    "      & (b<threshold2)\n",
    "      & (np.abs(r-g)<dist)\n",
    "      & (np.abs(r-b)<dist)\n",
    "      & (np.abs(g-b)<dist)\n",
    "      )\n",
    "arr[mask2,0]=(255-arr[mask2,0])\n",
    "arr[mask2,1]=(255-arr[mask2,1])\n",
    "arr[mask2,2]=(255-arr[mask2,2])\n",
    "img=Image.fromarray(arr,mode='RGBA')\n",
    "\n",
    "\n",
    "img.save(\"img2.png\", \"PNG\")"
   ]
  }
 ],
 "metadata": {
  "kernelspec": {
   "display_name": "Python 3",
   "language": "python",
   "name": "python3"
  },
  "language_info": {
   "codemirror_mode": {
    "name": "ipython",
    "version": 3
   },
   "file_extension": ".py",
   "mimetype": "text/x-python",
   "name": "python",
   "nbconvert_exporter": "python",
   "pygments_lexer": "ipython3",
   "version": "3.8.5"
  }
 },
 "nbformat": 4,
 "nbformat_minor": 4
}
