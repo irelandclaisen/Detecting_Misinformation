{
 "cells": [
  {
   "cell_type": "code",
   "execution_count": null,
   "metadata": {},
   "outputs": [],
   "source": [
    "\"\"\"\n",
    "This notebook scrapes labels from adfontesmedia.com and scrapes the news articles linked by \n",
    "this website to generate a dataset with text from news articles and labels.  We then use this\n",
    "data to train a logistic regression model to classify fake news and real news\n",
    "\"\"\""
   ]
  },
  {
   "cell_type": "code",
   "execution_count": 132,
   "metadata": {},
   "outputs": [],
   "source": [
    "import pandas as pd\n",
    "import pickle\n",
    "from bs4 import BeautifulSoup\n",
    "import requests\n",
    "import time\n",
    "import matplotlib.pyplot as plt"
   ]
  },
  {
   "cell_type": "code",
   "execution_count": 291,
   "metadata": {
    "collapsed": true,
    "jupyter": {
     "outputs_hidden": true
    }
   },
   "outputs": [
    {
     "name": "stdout",
     "output_type": "stream",
     "text": [
      "The Skimm Bias and Reliability\n",
      "The Weather Channel Bias and Reliability\n",
      "The Week Bias and Reliability\n",
      "ThinkProgress Bias and Reliability\n",
      "Time Magazine Bias and Reliability\n",
      "TMZ Bias and Reliability\n",
      "Townhall – Bias and Reliability\n",
      "Truthout Bias and Reliability\n",
      "Twitchy Bias and Reliability\n",
      "UrNews24 Bias and Reliability\n",
      "USA Today Bias and Reliability\n",
      "Vanity Fair Bias and Reliability\n",
      "Vice Bias and Reliability\n",
      "Vox Bias and Reliability\n",
      "Wall Street Journal Bias and Reliability\n",
      "Washington Examiner Bias and Reliability\n",
      "Washington Free Beacon Bias and Reliability\n",
      "Washington Monthly Bias and Reliability\n",
      "Washington Post Bias and Reliability\n",
      "Washington Times Bias and Reliability\n",
      "Wonkette Bias and Reliability\n",
      "World Truth TV Bias and Reliability\n",
      "WorldNetDaily Bias and Reliability\n",
      "ZeroHedge Bias and Reliability\n"
     ]
    }
   ],
   "source": [
    "# Scrapes the articles and the ratings by adfontesmedia.com and saves them into a list \n",
    "source_code = requests.get('https://www.adfontesmedia.com/rankings-by-individual-news-source/')\n",
    "soup = BeautifulSoup(source_code.text, 'html5lib')\n",
    "news = []\n",
    "for source in soup.find_all('div', class_=\"fusion-post-content post-content\")[105:]:\n",
    "    outlet = source.get_text()\n",
    "    source_code_2 = requests.get(source.find('a').get('href'))\n",
    "    soup2 = BeautifulSoup(source_code_2.text, 'html5lib')\n",
    "    print(outlet)\n",
    "    if soup2.find('figure', class_=\"wp-block-table\") == None:\n",
    "        try:\n",
    "            articles = soup2.find('div', class_=\"table-1\").find('tbody').find_all('tr')\n",
    "        except:\n",
    "            articles = soup2.find('tbody').find_all('tr')\n",
    "    else:\n",
    "        articles = soup2.find('figure', class_=\"wp-block-table\").find('tbody').find_all('tr')\n",
    "    for article in articles:\n",
    "        if article.find('a') != None:\n",
    "            ratings = article.find_all('td')\n",
    "            bias = ratings[1].get_text()\n",
    "            reliability = ratings[2].get_text()\n",
    "            source_code_3 = requests.get(article.find('a').get('href'))\n",
    "            soup3 = BeautifulSoup(source_code_3.text, 'html5lib')\n",
    "            visible = soup3.find_all(text=True)\n",
    "            text = ''\n",
    "            for tag in visible:\n",
    "                if tag.parent.name in ['p', 'a']:\n",
    "                    text += ' ' + tag\n",
    "            news.append([outlet, text, bias, reliability])\n",
    "            time.sleep(1)"
   ]
  },
  {
   "cell_type": "code",
   "execution_count": 293,
   "metadata": {},
   "outputs": [],
   "source": [
    "# Takes the scraped data that is in the list and saves it into a dataframe\n",
    "df = pd.DataFrame(news, columns = ['Source', 'Text', 'Bias', 'Reliability'])"
   ]
  },
  {
   "cell_type": "code",
   "execution_count": 61,
   "metadata": {},
   "outputs": [
    {
     "data": {
      "text/plain": [
       "2050"
      ]
     },
     "execution_count": 61,
     "metadata": {},
     "output_type": "execute_result"
    }
   ],
   "source": [
    "# Length of dataframe\n",
    "len(df)"
   ]
  },
  {
   "cell_type": "code",
   "execution_count": 82,
   "metadata": {},
   "outputs": [],
   "source": [
    "with open('adfonte_media.pickle', 'wb') as to_write:\n",
    "    pickle.dump(df_main, to_write)"
   ]
  },
  {
   "cell_type": "code",
   "execution_count": 382,
   "metadata": {},
   "outputs": [
    {
     "data": {
      "text/html": [
       "<div>\n",
       "<style scoped>\n",
       "    .dataframe tbody tr th:only-of-type {\n",
       "        vertical-align: middle;\n",
       "    }\n",
       "\n",
       "    .dataframe tbody tr th {\n",
       "        vertical-align: top;\n",
       "    }\n",
       "\n",
       "    .dataframe thead th {\n",
       "        text-align: right;\n",
       "    }\n",
       "</style>\n",
       "<table border=\"1\" class=\"dataframe\">\n",
       "  <thead>\n",
       "    <tr style=\"text-align: right;\">\n",
       "      <th></th>\n",
       "      <th>Source</th>\n",
       "      <th>Text</th>\n",
       "      <th>Bias</th>\n",
       "      <th>Reliability</th>\n",
       "      <th>text</th>\n",
       "      <th>reliability</th>\n",
       "      <th>true</th>\n",
       "    </tr>\n",
       "  </thead>\n",
       "  <tbody>\n",
       "    <tr>\n",
       "      <th>0</th>\n",
       "      <td>ABC News Bias and Reliability</td>\n",
       "      <td>U.S. cyber operators disrupted internet acces...</td>\n",
       "      <td>[-5.33]</td>\n",
       "      <td>[52.33]</td>\n",
       "      <td>us  cyber operators disrupted internet access...</td>\n",
       "      <td>52.33</td>\n",
       "      <td>1</td>\n",
       "    </tr>\n",
       "    <tr>\n",
       "      <th>1</th>\n",
       "      <td>ABC News Bias and Reliability</td>\n",
       "      <td>A federal appeals court rejected the most dir...</td>\n",
       "      <td>[0.67]</td>\n",
       "      <td>[51.67]</td>\n",
       "      <td>a federal appeals court rejected the most dir...</td>\n",
       "      <td>51.67</td>\n",
       "      <td>1</td>\n",
       "    </tr>\n",
       "    <tr>\n",
       "      <th>2</th>\n",
       "      <td>ABC News Bias and Reliability</td>\n",
       "      <td>U.S Senator  Elizabeth Warren , who is compet...</td>\n",
       "      <td>[-10.00]</td>\n",
       "      <td>[32.00]</td>\n",
       "      <td>us senator  elizabeth warren   who is competi...</td>\n",
       "      <td>32.00</td>\n",
       "      <td>1</td>\n",
       "    </tr>\n",
       "    <tr>\n",
       "      <th>3</th>\n",
       "      <td>ABC News Bias and Reliability</td>\n",
       "      <td>Facebook   announced  Tuesday that it will bl...</td>\n",
       "      <td>[-2.33]</td>\n",
       "      <td>[52.33]</td>\n",
       "      <td>facebook   announced  tuesday that it will bl...</td>\n",
       "      <td>52.33</td>\n",
       "      <td>1</td>\n",
       "    </tr>\n",
       "    <tr>\n",
       "      <th>4</th>\n",
       "      <td>ABC News Bias and Reliability</td>\n",
       "      <td>President  Donald Trump  and \"the Trump of th...</td>\n",
       "      <td>[-4.33]</td>\n",
       "      <td>[52.67]</td>\n",
       "      <td>president  donald trump  and  the trump of th...</td>\n",
       "      <td>52.67</td>\n",
       "      <td>1</td>\n",
       "    </tr>\n",
       "  </tbody>\n",
       "</table>\n",
       "</div>"
      ],
      "text/plain": [
       "                          Source  \\\n",
       "0  ABC News Bias and Reliability   \n",
       "1  ABC News Bias and Reliability   \n",
       "2  ABC News Bias and Reliability   \n",
       "3  ABC News Bias and Reliability   \n",
       "4  ABC News Bias and Reliability   \n",
       "\n",
       "                                                Text      Bias Reliability  \\\n",
       "0   U.S. cyber operators disrupted internet acces...   [-5.33]     [52.33]   \n",
       "1   A federal appeals court rejected the most dir...    [0.67]     [51.67]   \n",
       "2   U.S Senator  Elizabeth Warren , who is compet...  [-10.00]     [32.00]   \n",
       "3   Facebook   announced  Tuesday that it will bl...   [-2.33]     [52.33]   \n",
       "4   President  Donald Trump  and \"the Trump of th...   [-4.33]     [52.67]   \n",
       "\n",
       "                                                text  reliability  true  \n",
       "0   us  cyber operators disrupted internet access...        52.33     1  \n",
       "1   a federal appeals court rejected the most dir...        51.67     1  \n",
       "2   us senator  elizabeth warren   who is competi...        32.00     1  \n",
       "3   facebook   announced  tuesday that it will bl...        52.33     1  \n",
       "4   president  donald trump  and  the trump of th...        52.67     1  "
      ]
     },
     "execution_count": 382,
     "metadata": {},
     "output_type": "execute_result"
    }
   ],
   "source": [
    "# Cleans up the text in the dataframe.  \n",
    "import re\n",
    "import string\n",
    "\n",
    "us = lambda x: re.sub(\"U.S\", 'us', x)\n",
    "cleanup2 = lambda x: re.sub(\"\\n\", '', x)\n",
    "cleanup3 = lambda x: re.sub(\"\\t\", '', x)\n",
    "apostrophe = lambda x: re.sub(\"\\'\", '', x)\n",
    "alphanumeric = lambda x: re.sub('\\w*\\d\\w*', ' ', x)\n",
    "punc_lower = lambda x: re.sub('[%s]' % re.escape(string.punctuation), ' ', x.lower())\n",
    "\n",
    "df['text'] = df['Text'].map(us).map(apostrophe).map(alphanumeric).map(punc_lower).map(cleanup2).map(cleanup3)\n",
    "df.head()"
   ]
  },
  {
   "cell_type": "code",
   "execution_count": 74,
   "metadata": {},
   "outputs": [],
   "source": [
    "# Sets recursion limit so doesn't through a recursion exception\n",
    "import sys\n",
    "sys.setrecursionlimit(100000)"
   ]
  },
  {
   "cell_type": "code",
   "execution_count": 307,
   "metadata": {},
   "outputs": [],
   "source": [
    "# Methods to fix the reliability and source columns of the dataframe\n",
    "fix_source = lambda x: re.sub('Bias and Reliability', x)\n",
    "fix_text = lambda x: ''.join(re.findall('[0-9.-]', x))"
   ]
  },
  {
   "cell_type": "code",
   "execution_count": 11,
   "metadata": {
    "collapsed": true,
    "jupyter": {
     "outputs_hidden": true
    }
   },
   "outputs": [
    {
     "ename": "TypeError",
     "evalue": "expected string or bytes-like object",
     "output_type": "error",
     "traceback": [
      "\u001b[0;31m---------------------------------------------------------------------------\u001b[0m",
      "\u001b[0;31mTypeError\u001b[0m                                 Traceback (most recent call last)",
      "\u001b[0;32m<ipython-input-11-e0767fd010e2>\u001b[0m in \u001b[0;36m<module>\u001b[0;34m\u001b[0m\n\u001b[0;32m----> 1\u001b[0;31m \u001b[0mdf\u001b[0m\u001b[0;34m[\u001b[0m\u001b[0;34m'bias'\u001b[0m\u001b[0;34m]\u001b[0m \u001b[0;34m=\u001b[0m \u001b[0;34m''\u001b[0m\u001b[0;34m.\u001b[0m\u001b[0mjoin\u001b[0m\u001b[0;34m(\u001b[0m\u001b[0mre\u001b[0m\u001b[0;34m.\u001b[0m\u001b[0mfindall\u001b[0m\u001b[0;34m(\u001b[0m\u001b[0;34m'[0-9.]'\u001b[0m\u001b[0;34m,\u001b[0m \u001b[0mdf\u001b[0m\u001b[0;34m[\u001b[0m\u001b[0;34m'Bias'\u001b[0m\u001b[0;34m]\u001b[0m\u001b[0;34m)\u001b[0m\u001b[0;34m)\u001b[0m\u001b[0;34m\u001b[0m\u001b[0;34m\u001b[0m\u001b[0m\n\u001b[0m",
      "\u001b[0;32m~/opt/anaconda3/envs/metis/lib/python3.8/re.py\u001b[0m in \u001b[0;36mfindall\u001b[0;34m(pattern, string, flags)\u001b[0m\n\u001b[1;32m    239\u001b[0m \u001b[0;34m\u001b[0m\u001b[0m\n\u001b[1;32m    240\u001b[0m     Empty matches are included in the result.\"\"\"\n\u001b[0;32m--> 241\u001b[0;31m     \u001b[0;32mreturn\u001b[0m \u001b[0m_compile\u001b[0m\u001b[0;34m(\u001b[0m\u001b[0mpattern\u001b[0m\u001b[0;34m,\u001b[0m \u001b[0mflags\u001b[0m\u001b[0;34m)\u001b[0m\u001b[0;34m.\u001b[0m\u001b[0mfindall\u001b[0m\u001b[0;34m(\u001b[0m\u001b[0mstring\u001b[0m\u001b[0;34m)\u001b[0m\u001b[0;34m\u001b[0m\u001b[0;34m\u001b[0m\u001b[0m\n\u001b[0m\u001b[1;32m    242\u001b[0m \u001b[0;34m\u001b[0m\u001b[0m\n\u001b[1;32m    243\u001b[0m \u001b[0;32mdef\u001b[0m \u001b[0mfinditer\u001b[0m\u001b[0;34m(\u001b[0m\u001b[0mpattern\u001b[0m\u001b[0;34m,\u001b[0m \u001b[0mstring\u001b[0m\u001b[0;34m,\u001b[0m \u001b[0mflags\u001b[0m\u001b[0;34m=\u001b[0m\u001b[0;36m0\u001b[0m\u001b[0;34m)\u001b[0m\u001b[0;34m:\u001b[0m\u001b[0;34m\u001b[0m\u001b[0;34m\u001b[0m\u001b[0m\n",
      "\u001b[0;31mTypeError\u001b[0m: expected string or bytes-like object"
     ]
    }
   ],
   "source": [
    "# Generates a column, 'bias', which gets the bias as a float\n",
    "df['bias']= df['Bias']\n",
    "df['bias'] = ''.join(re.findall('[0-9.]', df['Bias']))"
   ]
  },
  {
   "cell_type": "code",
   "execution_count": 425,
   "metadata": {},
   "outputs": [],
   "source": [
    "# Selects the text and true column of dataframe and makes new dataframe\n",
    "df_main = df[['text', 'true']]"
   ]
  },
  {
   "cell_type": "code",
   "execution_count": 44,
   "metadata": {},
   "outputs": [],
   "source": [
    "def get_num(row, variable):\n",
    "    \"\"\"\n",
    "    Takes in a dataframe row and finds numerical value that is within a line  \n",
    "    of text.  Returns that value as a float\n",
    "    \"\"\"\n",
    "    string = str(row[variable])\n",
    "    if len(string) <10:\n",
    "        string = re.sub(',', '.', string)\n",
    "        return float(string)\n",
    "    else:\n",
    "        return float(''.join(re.findall('[0-9.]', string[-15:])))"
   ]
  },
  {
   "cell_type": "code",
   "execution_count": 419,
   "metadata": {},
   "outputs": [],
   "source": [
    "def label_news(row):\n",
    "    \"\"\"\n",
    "    Takes in a row and converts reliability into a 1,0 binary rating system, \n",
    "    where 1 is real news and 0 is fake news\n",
    "    \"\"\"\n",
    "    reliability = row['reliability']\n",
    "    if reliability < 30:\n",
    "        return 0\n",
    "    else:\n",
    "        return 1"
   ]
  },
  {
   "cell_type": "code",
   "execution_count": 54,
   "metadata": {},
   "outputs": [],
   "source": [
    "# Gets reliability as a float\n",
    "df['reliability'] = df.apply(get_num, variable = 'Reliability', axis = 1)"
   ]
  },
  {
   "cell_type": "code",
   "execution_count": 420,
   "metadata": {},
   "outputs": [],
   "source": [
    "# Generates a new column true that is labeled based on reliability\n",
    "df['true'] = df.apply(label_news, axis = 1)"
   ]
  },
  {
   "cell_type": "code",
   "execution_count": 421,
   "metadata": {
    "collapsed": true,
    "jupyter": {
     "outputs_hidden": true
    }
   },
   "outputs": [
    {
     "data": {
      "text/html": [
       "<div>\n",
       "<style scoped>\n",
       "    .dataframe tbody tr th:only-of-type {\n",
       "        vertical-align: middle;\n",
       "    }\n",
       "\n",
       "    .dataframe tbody tr th {\n",
       "        vertical-align: top;\n",
       "    }\n",
       "\n",
       "    .dataframe thead th {\n",
       "        text-align: right;\n",
       "    }\n",
       "</style>\n",
       "<table border=\"1\" class=\"dataframe\">\n",
       "  <thead>\n",
       "    <tr style=\"text-align: right;\">\n",
       "      <th></th>\n",
       "      <th>Source</th>\n",
       "      <th>Text</th>\n",
       "      <th>Bias</th>\n",
       "      <th>Reliability</th>\n",
       "      <th>text</th>\n",
       "      <th>reliability</th>\n",
       "      <th>true</th>\n",
       "    </tr>\n",
       "  </thead>\n",
       "  <tbody>\n",
       "    <tr>\n",
       "      <th>0</th>\n",
       "      <td>ABC News Bias and Reliability</td>\n",
       "      <td>U.S. cyber operators disrupted internet acces...</td>\n",
       "      <td>[-5.33]</td>\n",
       "      <td>[52.33]</td>\n",
       "      <td>us  cyber operators disrupted internet access...</td>\n",
       "      <td>52.33</td>\n",
       "      <td>1</td>\n",
       "    </tr>\n",
       "    <tr>\n",
       "      <th>1</th>\n",
       "      <td>ABC News Bias and Reliability</td>\n",
       "      <td>A federal appeals court rejected the most dir...</td>\n",
       "      <td>[0.67]</td>\n",
       "      <td>[51.67]</td>\n",
       "      <td>a federal appeals court rejected the most dir...</td>\n",
       "      <td>51.67</td>\n",
       "      <td>1</td>\n",
       "    </tr>\n",
       "    <tr>\n",
       "      <th>2</th>\n",
       "      <td>ABC News Bias and Reliability</td>\n",
       "      <td>U.S Senator  Elizabeth Warren , who is compet...</td>\n",
       "      <td>[-10.00]</td>\n",
       "      <td>[32.00]</td>\n",
       "      <td>us senator  elizabeth warren   who is competi...</td>\n",
       "      <td>32.00</td>\n",
       "      <td>1</td>\n",
       "    </tr>\n",
       "    <tr>\n",
       "      <th>3</th>\n",
       "      <td>ABC News Bias and Reliability</td>\n",
       "      <td>Facebook   announced  Tuesday that it will bl...</td>\n",
       "      <td>[-2.33]</td>\n",
       "      <td>[52.33]</td>\n",
       "      <td>facebook   announced  tuesday that it will bl...</td>\n",
       "      <td>52.33</td>\n",
       "      <td>1</td>\n",
       "    </tr>\n",
       "    <tr>\n",
       "      <th>4</th>\n",
       "      <td>ABC News Bias and Reliability</td>\n",
       "      <td>President  Donald Trump  and \"the Trump of th...</td>\n",
       "      <td>[-4.33]</td>\n",
       "      <td>[52.67]</td>\n",
       "      <td>president  donald trump  and  the trump of th...</td>\n",
       "      <td>52.67</td>\n",
       "      <td>1</td>\n",
       "    </tr>\n",
       "  </tbody>\n",
       "</table>\n",
       "</div>"
      ],
      "text/plain": [
       "                          Source  \\\n",
       "0  ABC News Bias and Reliability   \n",
       "1  ABC News Bias and Reliability   \n",
       "2  ABC News Bias and Reliability   \n",
       "3  ABC News Bias and Reliability   \n",
       "4  ABC News Bias and Reliability   \n",
       "\n",
       "                                                Text      Bias Reliability  \\\n",
       "0   U.S. cyber operators disrupted internet acces...   [-5.33]     [52.33]   \n",
       "1   A federal appeals court rejected the most dir...    [0.67]     [51.67]   \n",
       "2   U.S Senator  Elizabeth Warren , who is compet...  [-10.00]     [32.00]   \n",
       "3   Facebook   announced  Tuesday that it will bl...   [-2.33]     [52.33]   \n",
       "4   President  Donald Trump  and \"the Trump of th...   [-4.33]     [52.67]   \n",
       "\n",
       "                                                text  reliability  true  \n",
       "0   us  cyber operators disrupted internet access...        52.33     1  \n",
       "1   a federal appeals court rejected the most dir...        51.67     1  \n",
       "2   us senator  elizabeth warren   who is competi...        32.00     1  \n",
       "3   facebook   announced  tuesday that it will bl...        52.33     1  \n",
       "4   president  donald trump  and  the trump of th...        52.67     1  "
      ]
     },
     "execution_count": 421,
     "metadata": {},
     "output_type": "execute_result"
    }
   ],
   "source": [
    "df.head()"
   ]
  },
  {
   "cell_type": "code",
   "execution_count": 394,
   "metadata": {},
   "outputs": [],
   "source": [
    "# Gets politifact pickle.  Turns out there is far more real articles than fake articles\n",
    "# and I wanted to increase the number of fake articles, thus using the politifact dataset\n",
    "file_path = 'politifact.pickle'\n",
    "polifact = pd.read_pickle(file_path)"
   ]
  },
  {
   "cell_type": "code",
   "execution_count": 429,
   "metadata": {},
   "outputs": [],
   "source": [
    "# Generates a combined dataframe with politifact and adfontesmedia data\n",
    "df_comb = pd.concat([df_main, polifact])"
   ]
  },
  {
   "cell_type": "code",
   "execution_count": 434,
   "metadata": {},
   "outputs": [],
   "source": [
    "# Split the data into X and y data sets\n",
    "X = df_comb['text']\n",
    "y = df_comb['true']"
   ]
  },
  {
   "cell_type": "code",
   "execution_count": 435,
   "metadata": {},
   "outputs": [],
   "source": [
    "# Split the data into training and test sets\n",
    "from sklearn.model_selection import train_test_split\n",
    "X_train, X_test, y_train, y_test = train_test_split(X, y, test_size=0.3, random_state=30)"
   ]
  },
  {
   "cell_type": "code",
   "execution_count": 436,
   "metadata": {},
   "outputs": [],
   "source": [
    "# Generates an tf-idf vectorizer\n",
    "from sklearn.feature_extraction.text import TfidfVectorizer\n",
    "\n",
    "tfidf1 = TfidfVectorizer(stop_words='english')\n",
    "X_train_tfidf1 = tfidf1.fit_transform(X_train)\n",
    "X_test_tfidf1  = tfidf1.transform(X_test)"
   ]
  },
  {
   "cell_type": "code",
   "execution_count": 488,
   "metadata": {},
   "outputs": [],
   "source": [
    "# Save the tf-idf vectorizer as a pickle\n",
    "pickle.dump(tfidf1, open('tfidf1.pickle', 'wb'))"
   ]
  },
  {
   "cell_type": "code",
   "execution_count": 412,
   "metadata": {},
   "outputs": [],
   "source": [
    "# Generates an tf-idf vectorizer with bigrams  Tried this with the logistic regression\n",
    "# model and got worse results, so stuck with the unigram vectorizer\n",
    "tfidf2 = TfidfVectorizer(ngram_range=(1,2), binary=True, stop_words='english')\n",
    "X_train_tfidf2 = tfidf2.fit_transform(X_train)\n",
    "X_test_tfidf2  = tfidf2.transform(X_test)"
   ]
  },
  {
   "cell_type": "code",
   "execution_count": 437,
   "metadata": {},
   "outputs": [],
   "source": [
    "from sklearn.linear_model import LogisticRegression\n",
    "lr = LogisticRegression()"
   ]
  },
  {
   "cell_type": "code",
   "execution_count": 485,
   "metadata": {},
   "outputs": [],
   "source": [
    "# This method takes actual values and predicted values and produces a confusion matrix\n",
    "from sklearn.metrics import confusion_matrix, classification_report\n",
    "def conf_matrix(actual, predicted):\n",
    "    cm = confusion_matrix(actual, predicted)\n",
    "    fig, ax = plt.subplots(1, 1, figsize=(10,5), dpi = 200);\n",
    "    g = sns.heatmap(cm, xticklabels=['predicted_negative', 'predicted_positive'], \n",
    "                yticklabels=['actual_negative', 'actual_positive'], annot=True,\n",
    "                fmt='d', annot_kws={'fontsize':20}, cmap=\"YlGnBu\");\n",
    "    ax.set_yticklabels(['actual_negative', 'actual_positive'],color = 'white')\n",
    "    ax.set_xticklabels(['predicted_negative', 'predicted_positive'],color = 'white')\n",
    "\n",
    "    true_neg, false_pos = cm[0]\n",
    "    false_neg, true_pos = cm[1]\n",
    "\n",
    "    accuracy = round((true_pos + true_neg) / (true_pos + true_neg + false_pos + false_neg),3)\n",
    "    precision = round((true_pos) / (true_pos + false_pos),3)\n",
    "    recall = round((true_pos) / (true_pos + false_neg),3)\n",
    "    f1 = round(2 * (precision * recall) / (precision + recall),3)\n",
    "\n",
    "    cm_results = [accuracy, precision, recall, f1]\n",
    "    plt.savefig('conf_matrix', transparent=True);\n",
    "    return cm_results"
   ]
  },
  {
   "cell_type": "code",
   "execution_count": 415,
   "metadata": {},
   "outputs": [],
   "source": [
    "import seaborn as sns\n",
    "from sklearn.decomposition import LatentDirichletAllocation\n",
    "from imblearn.over_sampling import RandomOverSampler"
   ]
  },
  {
   "cell_type": "code",
   "execution_count": 447,
   "metadata": {},
   "outputs": [],
   "source": [
    "# Balance the classes by oversampling\n",
    "ros = RandomOverSampler(random_state=0)\n",
    "X_resampled, y_resampled = ros.fit_sample(X_train_tfidf1,y_train)"
   ]
  },
  {
   "cell_type": "code",
   "execution_count": 486,
   "metadata": {},
   "outputs": [],
   "source": [
    "# Fit the first logistic regression on the TF-IDF data with unigrams\n",
    "# Tried with bigrams too but got worse results\n",
    "lr.fit(X_resampled, y_resampled)\n",
    "y_pred_tfidf1_lr = lr.predict(X_test_tfidf1)\n"
   ]
  },
  {
   "cell_type": "code",
   "execution_count": 484,
   "metadata": {},
   "outputs": [
    {
     "data": {
      "image/png": "[encoded data removed]",
      "text/plain": [
       "<Figure size 2000x1000 with 2 Axes>"
      ]
     },
     "metadata": {},
     "output_type": "display_data"
    }
   ],
   "source": [
    "# Prints the confusion matrix for this model\n",
    "cm5 = conf_matrix(y_test, y_pred_tfidf1_lr)"
   ]
  },
  {
   "cell_type": "code",
   "execution_count": 449,
   "metadata": {},
   "outputs": [
    {
     "name": "stdout",
     "output_type": "stream",
     "text": [
      "              precision    recall  f1-score   support\n",
      "\n",
      "           0       0.71      0.78      0.74       222\n",
      "           1       0.89      0.85      0.87       466\n",
      "\n",
      "    accuracy                           0.82       688\n",
      "   macro avg       0.80      0.81      0.80       688\n",
      "weighted avg       0.83      0.82      0.83       688\n",
      "\n"
     ]
    }
   ],
   "source": [
    "# Gives the classification report for the logistic regression model\n",
    "print(classification_report(y_test, y_pred_tfidf1_lr ))"
   ]
  },
  {
   "cell_type": "code",
   "execution_count": 487,
   "metadata": {},
   "outputs": [],
   "source": [
    "# Save the logistic regression as a pickle file\n",
    "pickle.dump(lr, open('log_reg', 'wb'))"
   ]
  },
  {
   "cell_type": "code",
   "execution_count": 440,
   "metadata": {},
   "outputs": [],
   "source": [
    "# Save the combined dataframe as a pickle file\n",
    "with open('df_comb.pickle', 'wb') as to_write:\n",
    "    pickle.dump(df_comb, to_write)"
   ]
  },
  {
   "cell_type": "code",
   "execution_count": null,
   "metadata": {},
   "outputs": [],
   "source": []
  }
 ],
 "metadata": {
  "kernelspec": {
   "display_name": "Python 3",
   "language": "python",
   "name": "python3"
  },
  "language_info": {
   "codemirror_mode": {
    "name": "ipython",
    "version": 3
   },
   "file_extension": ".py",
   "mimetype": "text/x-python",
   "name": "python",
   "nbconvert_exporter": "python",
   "pygments_lexer": "ipython3",
   "version": "3.8.5"
  }
 },
 "nbformat": 4,
 "nbformat_minor": 4
}
